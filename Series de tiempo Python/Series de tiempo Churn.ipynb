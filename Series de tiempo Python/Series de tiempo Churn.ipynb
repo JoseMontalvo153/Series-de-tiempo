{
 "cells": [
  {
   "cell_type": "markdown",
   "metadata": {},
   "source": [
    "##Tarea##"
   ]
  },
  {
   "cell_type": "code",
   "execution_count": 2,
   "metadata": {},
   "outputs": [],
   "source": [
    "# Código en Python para Jupyter-Book\n",
    "\n",
    "# Importar las librerías necesarias\n",
    "import pandas as pd\n",
    "import matplotlib.pyplot as plt\n",
    "import numpy as np\n",
    "import seaborn as sns"
   ]
  },
  {
   "cell_type": "code",
   "execution_count": 3,
   "metadata": {},
   "outputs": [
    {
     "name": "stdout",
     "output_type": "stream",
     "text": [
      "^C\n",
      "Note: you may need to restart the kernel to use updated packages.\n"
     ]
    }
   ],
   "source": [
    "pip uninstall numpy"
   ]
  },
  {
   "cell_type": "code",
   "execution_count": null,
   "metadata": {},
   "outputs": [],
   "source": [
    "pip install numpy==1.26.4"
   ]
  },
  {
   "cell_type": "markdown",
   "metadata": {},
   "source": [
    "Enhanced Machine Learning Models for Churn Prediction and Retention Analysis"
   ]
  },
  {
   "cell_type": "code",
   "execution_count": 2,
   "metadata": {},
   "outputs": [
    {
     "ename": "ValueError",
     "evalue": "numpy.dtype size changed, may indicate binary incompatibility. Expected 96 from C header, got 88 from PyObject",
     "output_type": "error",
     "traceback": [
      "\u001b[1;31m---------------------------------------------------------------------------\u001b[0m",
      "\u001b[1;31mValueError\u001b[0m                                Traceback (most recent call last)",
      "Cell \u001b[1;32mIn[2], line 1\u001b[0m\n\u001b[1;32m----> 1\u001b[0m \u001b[38;5;28;01mfrom\u001b[39;00m \u001b[38;5;21;01mpyara\u001b[39;00m\u001b[38;5;21;01m.\u001b[39;00m\u001b[38;5;21;01msaphana\u001b[39;00m \u001b[38;5;28;01mimport\u001b[39;00m SAPHANAConnector\n\u001b[0;32m      2\u001b[0m hana \u001b[38;5;241m=\u001b[39m SAPHANAConnector(dsn\u001b[38;5;241m=\u001b[39m\u001b[38;5;124m\"\u001b[39m\u001b[38;5;124mHANA_PB1\u001b[39m\u001b[38;5;124m\"\u001b[39m)\n",
      "File \u001b[1;32msaphana.py:6\u001b[0m\n",
      "File \u001b[1;32mc:\\Users\\a843931\\OneDrive - Yara International ASA\\Documents\\Maestria analisis de dato\\Series de tiempo\\venv\\lib\\site-packages\\pandas\\__init__.py:22\u001b[0m\n\u001b[0;32m     19\u001b[0m \u001b[38;5;28;01mdel\u001b[39;00m _hard_dependencies, _dependency, _missing_dependencies\n\u001b[0;32m     21\u001b[0m \u001b[38;5;66;03m# numpy compat\u001b[39;00m\n\u001b[1;32m---> 22\u001b[0m \u001b[38;5;28;01mfrom\u001b[39;00m \u001b[38;5;21;01mpandas\u001b[39;00m\u001b[38;5;21;01m.\u001b[39;00m\u001b[38;5;21;01mcompat\u001b[39;00m \u001b[38;5;28;01mimport\u001b[39;00m is_numpy_dev \u001b[38;5;28;01mas\u001b[39;00m _is_numpy_dev  \u001b[38;5;66;03m# pyright: ignore # noqa:F401\u001b[39;00m\n\u001b[0;32m     24\u001b[0m \u001b[38;5;28;01mtry\u001b[39;00m:\n\u001b[0;32m     25\u001b[0m     \u001b[38;5;28;01mfrom\u001b[39;00m \u001b[38;5;21;01mpandas\u001b[39;00m\u001b[38;5;21;01m.\u001b[39;00m\u001b[38;5;21;01m_libs\u001b[39;00m \u001b[38;5;28;01mimport\u001b[39;00m hashtable \u001b[38;5;28;01mas\u001b[39;00m _hashtable, lib \u001b[38;5;28;01mas\u001b[39;00m _lib, tslib \u001b[38;5;28;01mas\u001b[39;00m _tslib\n",
      "File \u001b[1;32mc:\\Users\\a843931\\OneDrive - Yara International ASA\\Documents\\Maestria analisis de dato\\Series de tiempo\\venv\\lib\\site-packages\\pandas\\compat\\__init__.py:25\u001b[0m\n\u001b[0;32m     17\u001b[0m \u001b[38;5;28;01mfrom\u001b[39;00m \u001b[38;5;21;01mpandas\u001b[39;00m\u001b[38;5;21;01m.\u001b[39;00m\u001b[38;5;21;01mcompat\u001b[39;00m\u001b[38;5;21;01m.\u001b[39;00m\u001b[38;5;21;01m_constants\u001b[39;00m \u001b[38;5;28;01mimport\u001b[39;00m (\n\u001b[0;32m     18\u001b[0m     IS64,\n\u001b[0;32m     19\u001b[0m     PY39,\n\u001b[1;32m   (...)\u001b[0m\n\u001b[0;32m     22\u001b[0m     PYPY,\n\u001b[0;32m     23\u001b[0m )\n\u001b[0;32m     24\u001b[0m \u001b[38;5;28;01mimport\u001b[39;00m \u001b[38;5;21;01mpandas\u001b[39;00m\u001b[38;5;21;01m.\u001b[39;00m\u001b[38;5;21;01mcompat\u001b[39;00m\u001b[38;5;21;01m.\u001b[39;00m\u001b[38;5;21;01mcompressors\u001b[39;00m\n\u001b[1;32m---> 25\u001b[0m \u001b[38;5;28;01mfrom\u001b[39;00m \u001b[38;5;21;01mpandas\u001b[39;00m\u001b[38;5;21;01m.\u001b[39;00m\u001b[38;5;21;01mcompat\u001b[39;00m\u001b[38;5;21;01m.\u001b[39;00m\u001b[38;5;21;01mnumpy\u001b[39;00m \u001b[38;5;28;01mimport\u001b[39;00m (\n\u001b[0;32m     26\u001b[0m     is_numpy_dev,\n\u001b[0;32m     27\u001b[0m     np_version_under1p21,\n\u001b[0;32m     28\u001b[0m )\n\u001b[0;32m     29\u001b[0m \u001b[38;5;28;01mfrom\u001b[39;00m \u001b[38;5;21;01mpandas\u001b[39;00m\u001b[38;5;21;01m.\u001b[39;00m\u001b[38;5;21;01mcompat\u001b[39;00m\u001b[38;5;21;01m.\u001b[39;00m\u001b[38;5;21;01mpyarrow\u001b[39;00m \u001b[38;5;28;01mimport\u001b[39;00m (\n\u001b[0;32m     30\u001b[0m     pa_version_under7p0,\n\u001b[0;32m     31\u001b[0m     pa_version_under8p0,\n\u001b[0;32m     32\u001b[0m     pa_version_under9p0,\n\u001b[0;32m     33\u001b[0m     pa_version_under11p0,\n\u001b[0;32m     34\u001b[0m )\n\u001b[0;32m     37\u001b[0m \u001b[38;5;28;01mdef\u001b[39;00m \u001b[38;5;21mset_function_name\u001b[39m(f: F, name: \u001b[38;5;28mstr\u001b[39m, \u001b[38;5;28mcls\u001b[39m) \u001b[38;5;241m-\u001b[39m\u001b[38;5;241m>\u001b[39m F:\n",
      "File \u001b[1;32mc:\\Users\\a843931\\OneDrive - Yara International ASA\\Documents\\Maestria analisis de dato\\Series de tiempo\\venv\\lib\\site-packages\\pandas\\compat\\numpy\\__init__.py:4\u001b[0m\n\u001b[0;32m      1\u001b[0m \u001b[38;5;124;03m\"\"\" support numpy compatibility across versions \"\"\"\u001b[39;00m\n\u001b[0;32m      2\u001b[0m \u001b[38;5;28;01mimport\u001b[39;00m \u001b[38;5;21;01mnumpy\u001b[39;00m \u001b[38;5;28;01mas\u001b[39;00m \u001b[38;5;21;01mnp\u001b[39;00m\n\u001b[1;32m----> 4\u001b[0m \u001b[38;5;28;01mfrom\u001b[39;00m \u001b[38;5;21;01mpandas\u001b[39;00m\u001b[38;5;21;01m.\u001b[39;00m\u001b[38;5;21;01mutil\u001b[39;00m\u001b[38;5;21;01m.\u001b[39;00m\u001b[38;5;21;01mversion\u001b[39;00m \u001b[38;5;28;01mimport\u001b[39;00m Version\n\u001b[0;32m      6\u001b[0m \u001b[38;5;66;03m# numpy versioning\u001b[39;00m\n\u001b[0;32m      7\u001b[0m _np_version \u001b[38;5;241m=\u001b[39m np\u001b[38;5;241m.\u001b[39m__version__\n",
      "File \u001b[1;32mc:\\Users\\a843931\\OneDrive - Yara International ASA\\Documents\\Maestria analisis de dato\\Series de tiempo\\venv\\lib\\site-packages\\pandas\\util\\__init__.py:2\u001b[0m\n\u001b[0;32m      1\u001b[0m \u001b[38;5;66;03m# pyright: reportUnusedImport = false\u001b[39;00m\n\u001b[1;32m----> 2\u001b[0m \u001b[38;5;28;01mfrom\u001b[39;00m \u001b[38;5;21;01mpandas\u001b[39;00m\u001b[38;5;21;01m.\u001b[39;00m\u001b[38;5;21;01mutil\u001b[39;00m\u001b[38;5;21;01m.\u001b[39;00m\u001b[38;5;21;01m_decorators\u001b[39;00m \u001b[38;5;28;01mimport\u001b[39;00m (  \u001b[38;5;66;03m# noqa:F401\u001b[39;00m\n\u001b[0;32m      3\u001b[0m     Appender,\n\u001b[0;32m      4\u001b[0m     Substitution,\n\u001b[0;32m      5\u001b[0m     cache_readonly,\n\u001b[0;32m      6\u001b[0m )\n\u001b[0;32m      8\u001b[0m \u001b[38;5;28;01mfrom\u001b[39;00m \u001b[38;5;21;01mpandas\u001b[39;00m\u001b[38;5;21;01m.\u001b[39;00m\u001b[38;5;21;01mcore\u001b[39;00m\u001b[38;5;21;01m.\u001b[39;00m\u001b[38;5;21;01mutil\u001b[39;00m\u001b[38;5;21;01m.\u001b[39;00m\u001b[38;5;21;01mhashing\u001b[39;00m \u001b[38;5;28;01mimport\u001b[39;00m (  \u001b[38;5;66;03m# noqa:F401\u001b[39;00m\n\u001b[0;32m      9\u001b[0m     hash_array,\n\u001b[0;32m     10\u001b[0m     hash_pandas_object,\n\u001b[0;32m     11\u001b[0m )\n",
      "File \u001b[1;32mc:\\Users\\a843931\\OneDrive - Yara International ASA\\Documents\\Maestria analisis de dato\\Series de tiempo\\venv\\lib\\site-packages\\pandas\\util\\_decorators.py:14\u001b[0m\n\u001b[0;32m      6\u001b[0m \u001b[38;5;28;01mfrom\u001b[39;00m \u001b[38;5;21;01mtyping\u001b[39;00m \u001b[38;5;28;01mimport\u001b[39;00m (\n\u001b[0;32m      7\u001b[0m     Any,\n\u001b[0;32m      8\u001b[0m     Callable,\n\u001b[0;32m      9\u001b[0m     Mapping,\n\u001b[0;32m     10\u001b[0m     cast,\n\u001b[0;32m     11\u001b[0m )\n\u001b[0;32m     12\u001b[0m \u001b[38;5;28;01mimport\u001b[39;00m \u001b[38;5;21;01mwarnings\u001b[39;00m\n\u001b[1;32m---> 14\u001b[0m \u001b[38;5;28;01mfrom\u001b[39;00m \u001b[38;5;21;01mpandas\u001b[39;00m\u001b[38;5;21;01m.\u001b[39;00m\u001b[38;5;21;01m_libs\u001b[39;00m\u001b[38;5;21;01m.\u001b[39;00m\u001b[38;5;21;01mproperties\u001b[39;00m \u001b[38;5;28;01mimport\u001b[39;00m cache_readonly\n\u001b[0;32m     15\u001b[0m \u001b[38;5;28;01mfrom\u001b[39;00m \u001b[38;5;21;01mpandas\u001b[39;00m\u001b[38;5;21;01m.\u001b[39;00m\u001b[38;5;21;01m_typing\u001b[39;00m \u001b[38;5;28;01mimport\u001b[39;00m (\n\u001b[0;32m     16\u001b[0m     F,\n\u001b[0;32m     17\u001b[0m     T,\n\u001b[0;32m     18\u001b[0m )\n\u001b[0;32m     19\u001b[0m \u001b[38;5;28;01mfrom\u001b[39;00m \u001b[38;5;21;01mpandas\u001b[39;00m\u001b[38;5;21;01m.\u001b[39;00m\u001b[38;5;21;01mutil\u001b[39;00m\u001b[38;5;21;01m.\u001b[39;00m\u001b[38;5;21;01m_exceptions\u001b[39;00m \u001b[38;5;28;01mimport\u001b[39;00m find_stack_level\n",
      "File \u001b[1;32mc:\\Users\\a843931\\OneDrive - Yara International ASA\\Documents\\Maestria analisis de dato\\Series de tiempo\\venv\\lib\\site-packages\\pandas\\_libs\\__init__.py:13\u001b[0m\n\u001b[0;32m      1\u001b[0m __all__ \u001b[38;5;241m=\u001b[39m [\n\u001b[0;32m      2\u001b[0m     \u001b[38;5;124m\"\u001b[39m\u001b[38;5;124mNaT\u001b[39m\u001b[38;5;124m\"\u001b[39m,\n\u001b[0;32m      3\u001b[0m     \u001b[38;5;124m\"\u001b[39m\u001b[38;5;124mNaTType\u001b[39m\u001b[38;5;124m\"\u001b[39m,\n\u001b[1;32m   (...)\u001b[0m\n\u001b[0;32m      9\u001b[0m     \u001b[38;5;124m\"\u001b[39m\u001b[38;5;124mInterval\u001b[39m\u001b[38;5;124m\"\u001b[39m,\n\u001b[0;32m     10\u001b[0m ]\n\u001b[1;32m---> 13\u001b[0m \u001b[38;5;28;01mfrom\u001b[39;00m \u001b[38;5;21;01mpandas\u001b[39;00m\u001b[38;5;21;01m.\u001b[39;00m\u001b[38;5;21;01m_libs\u001b[39;00m\u001b[38;5;21;01m.\u001b[39;00m\u001b[38;5;21;01minterval\u001b[39;00m \u001b[38;5;28;01mimport\u001b[39;00m Interval\n\u001b[0;32m     14\u001b[0m \u001b[38;5;28;01mfrom\u001b[39;00m \u001b[38;5;21;01mpandas\u001b[39;00m\u001b[38;5;21;01m.\u001b[39;00m\u001b[38;5;21;01m_libs\u001b[39;00m\u001b[38;5;21;01m.\u001b[39;00m\u001b[38;5;21;01mtslibs\u001b[39;00m \u001b[38;5;28;01mimport\u001b[39;00m (\n\u001b[0;32m     15\u001b[0m     NaT,\n\u001b[0;32m     16\u001b[0m     NaTType,\n\u001b[1;32m   (...)\u001b[0m\n\u001b[0;32m     21\u001b[0m     iNaT,\n\u001b[0;32m     22\u001b[0m )\n",
      "File \u001b[1;32mc:\\Users\\a843931\\OneDrive - Yara International ASA\\Documents\\Maestria analisis de dato\\Series de tiempo\\venv\\lib\\site-packages\\pandas\\_libs\\interval.pyx:1\u001b[0m, in \u001b[0;36minit pandas._libs.interval\u001b[1;34m()\u001b[0m\n",
      "\u001b[1;31mValueError\u001b[0m: numpy.dtype size changed, may indicate binary incompatibility. Expected 96 from C header, got 88 from PyObject"
     ]
    }
   ],
   "source": [
    "from pyara.saphana import SAPHANAConnector\n",
    "hana = SAPHANAConnector(dsn=\"HANA_PB1\")\n"
   ]
  },
  {
   "cell_type": "code",
   "execution_count": 5,
   "metadata": {},
   "outputs": [
    {
     "name": "stdout",
     "output_type": "stream",
     "text": [
      "asttokens==2.4.1\n",
      "certifi==2024.8.30\n",
      "cffi==1.17.1\n",
      "charset-normalizer==3.3.2\n",
      "colorama==0.4.6\n",
      "comm==0.2.2\n",
      "cryptography==43.0.1\n",
      "debugpy==1.8.5\n",
      "decorator==5.1.1\n",
      "et-xmlfile==1.1.0\n",
      "exceptiongroup==1.2.2\n",
      "executing==2.1.0\n",
      "greenlet==3.1.0\n",
      "hdbcli==2.22.27\n",
      "idna==3.10\n",
      "importlib_metadata==8.5.0\n",
      "ipykernel==6.29.5\n",
      "ipython==8.18.1\n",
      "jedi==0.19.1\n",
      "jupyter_client==8.6.3\n",
      "jupyter_core==5.7.2\n",
      "lxml==5.3.0\n",
      "matplotlib-inline==0.1.7\n",
      "msal==1.31.0\n",
      "nest-asyncio==1.6.0\n",
      "numpy==2.0.2\n",
      "Office365-REST-Python-Client==2.5.12\n",
      "openpyxl==3.1.5\n",
      "packaging==24.1\n",
      "pandas==2.0.2\n",
      "parso==0.8.4\n",
      "platformdirs==4.3.6\n",
      "prompt_toolkit==3.0.47\n",
      "psutil==6.0.0\n",
      "pure_eval==0.2.3\n",
      "pyara @ git+https://github.com/ArthurBohn-Yara/pyara.git@bd4d2473819d0d12408c5b25f470312756a18dc5\n",
      "pycparser==2.22\n",
      "Pygments==2.18.0\n",
      "PyJWT==2.9.0\n",
      "pyodbc==5.1.0\n",
      "pyspnego==0.11.1\n",
      "python-dateutil==2.9.0.post0\n",
      "pytz==2024.2\n",
      "pywin32==306\n",
      "pyzmq==26.2.0\n",
      "requests==2.32.3\n",
      "requests-toolbelt==1.0.0\n",
      "requests_ntlm==1.3.0\n",
      "SharePlum==0.5.1\n",
      "six==1.16.0\n",
      "SQLAlchemy==1.4.54\n",
      "sqlalchemy-hana==2.7.0\n",
      "sspilib==0.1.0\n",
      "stack-data==0.6.3\n",
      "tornado==6.4.1\n",
      "traitlets==5.14.3\n",
      "typing_extensions==4.12.2\n",
      "tzdata==2024.1\n",
      "urllib3==2.2.3\n",
      "wcwidth==0.2.13\n",
      "xmltodict==0.13.0\n",
      "zipp==3.20.2\n",
      "Note: you may need to restart the kernel to use updated packages.\n"
     ]
    }
   ],
   "source": [
    "pip freeze"
   ]
  },
  {
   "cell_type": "code",
   "execution_count": null,
   "metadata": {},
   "outputs": [],
   "source": [
    "# Reads data from PB1\n",
    "QUERY = \"SELECT * FROM SCHEMA.TABLE\"\n",
    "data = hana.read_data(QUERY)"
   ]
  },
  {
   "cell_type": "markdown",
   "metadata": {},
   "source": [
    "**Introducción a los Datos y Objetivo del Modelo**\n",
    "\n",
    "El presente estudio se enfoca en el análisis de datos provenientes de una compañía de fertilizantes, cuyo objetivo principal es desarrollar un modelo de machine learning que asigne una probabilidad de churn (fuga) a cada cliente, basado en sus características y comportamiento histórico de compra. La implementación de este modelo permitiría identificar a aquellos clientes con mayor riesgo de abandono, permitiendo a la empresa concentrar sus esfuerzos en retener a estos clientes mediante intervenciones específicas.\n",
    "\n",
    "Los datos empleados en este análisis incluyen múltiples características relevantes de los clientes, como las fechas de compra, la cantidad de ventas (SalesQuantityIP), el código del pais, y los identificadores únicos de los clientes. Estos datos son fundamentales para capturar el comportamiento de compra a lo largo del tiempo y detectar patrones que puedan predecir la probabilidad de churn."
   ]
  },
  {
   "cell_type": "code",
   "execution_count": 12,
   "metadata": {},
   "outputs": [
    {
     "name": "stderr",
     "output_type": "stream",
     "text": [
      "C:\\Users\\a843931\\AppData\\Local\\Temp\\ipykernel_36956\\3059043225.py:2: DtypeWarning: Columns (3) have mixed types. Specify dtype option on import or set low_memory=False.\n",
      "  df_chrun = pd.read_csv('C:/Users/a843931/OneDrive - Yara International ASA/Documents/Maestria analisis de dato/Series de tiempo/Series de tiempo Python/Data_base/Data_base_chrun.csv')\n"
     ]
    }
   ],
   "source": [
    "#importamos los datos en la ruta\n",
    "df_chrun = pd.read_csv('C:/Users/a843931/OneDrive - Yara International ASA/Documents/Maestria analisis de dato/Series de tiempo/Series de tiempo Python/Data_base/Data_base_chrun.csv')\n",
    "df__chrun_BP01 = df_chrun[df_chrun['CompanyCode'] == 'BP01']"
   ]
  },
  {
   "cell_type": "code",
   "execution_count": 5,
   "metadata": {},
   "outputs": [
    {
     "data": {
      "text/html": [
       "<div>\n",
       "<style scoped>\n",
       "    .dataframe tbody tr th:only-of-type {\n",
       "        vertical-align: middle;\n",
       "    }\n",
       "\n",
       "    .dataframe tbody tr th {\n",
       "        vertical-align: top;\n",
       "    }\n",
       "\n",
       "    .dataframe thead th {\n",
       "        text-align: right;\n",
       "    }\n",
       "</style>\n",
       "<table border=\"1\" class=\"dataframe\">\n",
       "  <thead>\n",
       "    <tr style=\"text-align: right;\">\n",
       "      <th></th>\n",
       "      <th>ActualGIDate_Date</th>\n",
       "      <th>Year</th>\n",
       "      <th>CompanyCode</th>\n",
       "      <th>Customer</th>\n",
       "      <th>CB1</th>\n",
       "      <th>SalesQuantityIP</th>\n",
       "    </tr>\n",
       "  </thead>\n",
       "  <tbody>\n",
       "    <tr>\n",
       "      <th>0</th>\n",
       "      <td>2021-03-29</td>\n",
       "      <td>2021</td>\n",
       "      <td>BP01</td>\n",
       "      <td>10000697</td>\n",
       "      <td>423890.401034</td>\n",
       "      <td>34.0</td>\n",
       "    </tr>\n",
       "    <tr>\n",
       "      <th>1</th>\n",
       "      <td>2024-04-09</td>\n",
       "      <td>2024</td>\n",
       "      <td>BP01</td>\n",
       "      <td>10007175</td>\n",
       "      <td>288063.172859</td>\n",
       "      <td>12873.0</td>\n",
       "    </tr>\n",
       "    <tr>\n",
       "      <th>2</th>\n",
       "      <td>2018-05-16</td>\n",
       "      <td>2018</td>\n",
       "      <td>BP01</td>\n",
       "      <td>10000533</td>\n",
       "      <td>223135.393299</td>\n",
       "      <td>25000.0</td>\n",
       "    </tr>\n",
       "    <tr>\n",
       "      <th>3</th>\n",
       "      <td>2023-05-19</td>\n",
       "      <td>2023</td>\n",
       "      <td>BP01</td>\n",
       "      <td>10007175</td>\n",
       "      <td>170124.996831</td>\n",
       "      <td>7100.0</td>\n",
       "    </tr>\n",
       "    <tr>\n",
       "      <th>4</th>\n",
       "      <td>2022-05-13</td>\n",
       "      <td>2022</td>\n",
       "      <td>BP01</td>\n",
       "      <td>10007175</td>\n",
       "      <td>147761.645043</td>\n",
       "      <td>2958.0</td>\n",
       "    </tr>\n",
       "    <tr>\n",
       "      <th>...</th>\n",
       "      <td>...</td>\n",
       "      <td>...</td>\n",
       "      <td>...</td>\n",
       "      <td>...</td>\n",
       "      <td>...</td>\n",
       "      <td>...</td>\n",
       "    </tr>\n",
       "    <tr>\n",
       "      <th>429218</th>\n",
       "      <td>2019-10-21</td>\n",
       "      <td>2019</td>\n",
       "      <td>BP01</td>\n",
       "      <td>10026857</td>\n",
       "      <td>NaN</td>\n",
       "      <td>7.0</td>\n",
       "    </tr>\n",
       "    <tr>\n",
       "      <th>429219</th>\n",
       "      <td>2019-10-04</td>\n",
       "      <td>2019</td>\n",
       "      <td>BP01</td>\n",
       "      <td>10026857</td>\n",
       "      <td>NaN</td>\n",
       "      <td>5.0</td>\n",
       "    </tr>\n",
       "    <tr>\n",
       "      <th>429220</th>\n",
       "      <td>2019-10-03</td>\n",
       "      <td>2019</td>\n",
       "      <td>BP01</td>\n",
       "      <td>10026857</td>\n",
       "      <td>NaN</td>\n",
       "      <td>5.0</td>\n",
       "    </tr>\n",
       "    <tr>\n",
       "      <th>429221</th>\n",
       "      <td>2019-10-25</td>\n",
       "      <td>2019</td>\n",
       "      <td>BP01</td>\n",
       "      <td>10026857</td>\n",
       "      <td>NaN</td>\n",
       "      <td>15.0</td>\n",
       "    </tr>\n",
       "    <tr>\n",
       "      <th>429222</th>\n",
       "      <td>2019-10-21</td>\n",
       "      <td>2019</td>\n",
       "      <td>BP01</td>\n",
       "      <td>10026857</td>\n",
       "      <td>NaN</td>\n",
       "      <td>5.0</td>\n",
       "    </tr>\n",
       "  </tbody>\n",
       "</table>\n",
       "<p>429223 rows × 6 columns</p>\n",
       "</div>"
      ],
      "text/plain": [
       "       ActualGIDate_Date  Year CompanyCode  Customer            CB1  \\\n",
       "0             2021-03-29  2021        BP01  10000697  423890.401034   \n",
       "1             2024-04-09  2024        BP01  10007175  288063.172859   \n",
       "2             2018-05-16  2018        BP01  10000533  223135.393299   \n",
       "3             2023-05-19  2023        BP01  10007175  170124.996831   \n",
       "4             2022-05-13  2022        BP01  10007175  147761.645043   \n",
       "...                  ...   ...         ...       ...            ...   \n",
       "429218        2019-10-21  2019        BP01  10026857            NaN   \n",
       "429219        2019-10-04  2019        BP01  10026857            NaN   \n",
       "429220        2019-10-03  2019        BP01  10026857            NaN   \n",
       "429221        2019-10-25  2019        BP01  10026857            NaN   \n",
       "429222        2019-10-21  2019        BP01  10026857            NaN   \n",
       "\n",
       "        SalesQuantityIP  \n",
       "0                  34.0  \n",
       "1               12873.0  \n",
       "2               25000.0  \n",
       "3                7100.0  \n",
       "4                2958.0  \n",
       "...                 ...  \n",
       "429218              7.0  \n",
       "429219              5.0  \n",
       "429220              5.0  \n",
       "429221             15.0  \n",
       "429222              5.0  \n",
       "\n",
       "[429223 rows x 6 columns]"
      ]
     },
     "metadata": {},
     "output_type": "display_data"
    }
   ],
   "source": [
    "display(df__chrun_BP01)"
   ]
  },
  {
   "cell_type": "code",
   "execution_count": 9,
   "metadata": {},
   "outputs": [
    {
     "data": {
      "image/png": "[encoded data removed]",
      "text/plain": [
       "<Figure size 500x300 with 1 Axes>"
      ]
     },
     "metadata": {},
     "output_type": "display_data"
    }
   ],
   "source": [
    "# Asegurarse de que la columna de fecha esté en formato datetime\n",
    "df__chrun_BP01['ActualGIDate_Date'] = pd.to_datetime(df__chrun_BP01['ActualGIDate_Date'])\n",
    "\n",
    "# Crear el gráfico de líneas utilizando seaborn\n",
    "plt.figure(figsize=(5,3))\n",
    "sns.lineplot(data=df_chrun, x='Year', y='SalesQuantityIP')\n",
    "plt.title('Ventas de Productos a lo largo del Tiempo')\n",
    "plt.xlabel('Año')\n",
    "plt.ylabel('Ventas')\n",
    "plt.xticks(rotation=45) \n",
    "plt.tight_layout() \n",
    "plt.show()"
   ]
  },
  {
   "cell_type": "markdown",
   "metadata": {},
   "source": [
    "El gráfico de ventas de productos a lo largo del tiempo muestra una tendencia general de fluctuación entre 2018 y 2024. Observamos que las ventas han variado entre 9 y 12 millones de toneladas y litros, los cuales se debe hacer una limpieza y estandarizar con que unidades se va a trabajar."
   ]
  },
  {
   "cell_type": "code",
   "execution_count": 11,
   "metadata": {},
   "outputs": [
    {
     "name": "stderr",
     "output_type": "stream",
     "text": [
      "C:\\Users\\a843931\\AppData\\Local\\Temp\\ipykernel_36956\\3464508068.py:3: FutureWarning: \n",
      "\n",
      "Passing `palette` without assigning `hue` is deprecated and will be removed in v0.14.0. Assign the `x` variable to `hue` and set `legend=False` for the same effect.\n",
      "\n",
      "  sns.barplot(data=df__chrun_BP01, x='Year', y='SalesQuantityIP', palette='viridis')\n",
      "c:\\Users\\a843931\\AppData\\Local\\miniconda3\\envs\\ml_venv\\lib\\site-packages\\seaborn\\_base.py:948: FutureWarning: When grouping with a length-1 list-like, you will need to pass a length-1 tuple to get_group in a future version of pandas. Pass `(name,)` instead of `name` to silence this warning.\n",
      "  data_subset = grouped_data.get_group(pd_key)\n",
      "c:\\Users\\a843931\\AppData\\Local\\miniconda3\\envs\\ml_venv\\lib\\site-packages\\seaborn\\_base.py:948: FutureWarning: When grouping with a length-1 list-like, you will need to pass a length-1 tuple to get_group in a future version of pandas. Pass `(name,)` instead of `name` to silence this warning.\n",
      "  data_subset = grouped_data.get_group(pd_key)\n",
      "c:\\Users\\a843931\\AppData\\Local\\miniconda3\\envs\\ml_venv\\lib\\site-packages\\seaborn\\_base.py:948: FutureWarning: When grouping with a length-1 list-like, you will need to pass a length-1 tuple to get_group in a future version of pandas. Pass `(name,)` instead of `name` to silence this warning.\n",
      "  data_subset = grouped_data.get_group(pd_key)\n",
      "c:\\Users\\a843931\\AppData\\Local\\miniconda3\\envs\\ml_venv\\lib\\site-packages\\seaborn\\_base.py:948: FutureWarning: When grouping with a length-1 list-like, you will need to pass a length-1 tuple to get_group in a future version of pandas. Pass `(name,)` instead of `name` to silence this warning.\n",
      "  data_subset = grouped_data.get_group(pd_key)\n",
      "c:\\Users\\a843931\\AppData\\Local\\miniconda3\\envs\\ml_venv\\lib\\site-packages\\seaborn\\_base.py:948: FutureWarning: When grouping with a length-1 list-like, you will need to pass a length-1 tuple to get_group in a future version of pandas. Pass `(name,)` instead of `name` to silence this warning.\n",
      "  data_subset = grouped_data.get_group(pd_key)\n",
      "c:\\Users\\a843931\\AppData\\Local\\miniconda3\\envs\\ml_venv\\lib\\site-packages\\seaborn\\_base.py:948: FutureWarning: When grouping with a length-1 list-like, you will need to pass a length-1 tuple to get_group in a future version of pandas. Pass `(name,)` instead of `name` to silence this warning.\n",
      "  data_subset = grouped_data.get_group(pd_key)\n",
      "c:\\Users\\a843931\\AppData\\Local\\miniconda3\\envs\\ml_venv\\lib\\site-packages\\seaborn\\_base.py:948: FutureWarning: When grouping with a length-1 list-like, you will need to pass a length-1 tuple to get_group in a future version of pandas. Pass `(name,)` instead of `name` to silence this warning.\n",
      "  data_subset = grouped_data.get_group(pd_key)\n"
     ]
    },
    {
     "data": {
      "image/png": "[encoded data removed]",
      "text/plain": [
       "<Figure size 700x400 with 1 Axes>"
      ]
     },
     "metadata": {},
     "output_type": "display_data"
    }
   ],
   "source": [
    "# Crear el gráfico de barras para mostrar las ventas por año\n",
    "plt.figure(figsize=(7,4))\n",
    "sns.barplot(data=df__chrun_BP01, x='Year', y='SalesQuantityIP', palette='viridis')\n",
    "plt.title('Distribución de Ventas Totales por Año')\n",
    "plt.xlabel('Año')\n",
    "plt.ylabel('Cantidad de Ventas (SalesQuantityIP)')\n",
    "plt.xticks(rotation=45)  \n",
    "plt.grid(True, axis='y')  \n",
    "plt.tight_layout()  \n",
    "plt.show()\n"
   ]
  },
  {
   "cell_type": "markdown",
   "metadata": {},
   "source": [
    "Este gráfico muestra claramente las fluctuaciones en las ventas a lo largo de los años. El pico de ventas en 2021 es un aspecto que se puede analizar de su alza, mientras que el descenso observado en 2023 y 2024 podría sugerir la necesidad de estrategias para mantener la retención de clientes o incrementar las ventas en esos años."
   ]
  },
  {
   "cell_type": "markdown",
   "metadata": {},
   "source": [
    "*Conclusion*\n",
    "El uso combinado de XGBoost como modelo base y las Multi-Scale Transformer Pyramid Networks como modelo avanzado permitirá generar predicciones más precisas y estratégicas. Mientras que XGBoost proporciona una solución probada y confiable, el enfoque innovador de Transformer Networks aporta una mayor capacidad para modelar series temporales multivariadas, capturando de manera efectiva el comportamiento dinámico de los clientes a lo largo del tiempo. Esto brindará a la compañía de fertilizantes la posibilidad de anticipar comportamientos futuros y tomar medidas proactivas para reducir el churn y mejorar la retención de clientes."
   ]
  },
  {
   "cell_type": "markdown",
   "metadata": {},
   "source": []
  }
 ],
 "metadata": {
  "kernelspec": {
   "display_name": "ml_venv",
   "language": "python",
   "name": "python3"
  },
  "language_info": {
   "codemirror_mode": {
    "name": "ipython",
    "version": 3
   },
   "file_extension": ".py",
   "mimetype": "text/x-python",
   "name": "python",
   "nbconvert_exporter": "python",
   "pygments_lexer": "ipython3",
   "version": "3.9.17"
  }
 },
 "nbformat": 4,
 "nbformat_minor": 2
}
